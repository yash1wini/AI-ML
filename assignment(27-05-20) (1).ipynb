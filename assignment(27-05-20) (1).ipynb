{
 "cells": [
  {
   "cell_type": "code",
   "execution_count": 10,
   "metadata": {},
   "outputs": [
    {
     "name": "stdout",
     "output_type": "stream",
     "text": [
      "*  \r\n",
      "*  *  \r\n",
      "*  *  *  \r\n",
      "*  *  *  *  \r\n",
      "*  *  *  *  *  \r\n"
     ]
    }
   ],
   "source": [
    "def pattern(n):\n",
    "    for i in range(0, n):\n",
    "        for j in range(0, i+1):\n",
    "            print(\"* \",end=\" \")\n",
    "            \n",
    "        print(\"\\r\")\n",
    "n = 5\n",
    "pattern(n)"
   ]
  },
  {
   "cell_type": "code",
   "execution_count": 11,
   "metadata": {},
   "outputs": [
    {
     "name": "stdout",
     "output_type": "stream",
     "text": [
      "enter k7\n",
      "7 x 1 = 7\n",
      "7 x 2 = 14\n",
      "7 x 3 = 21\n",
      "7 x 4 = 28\n",
      "7 x 5 = 35\n",
      "7 x 6 = 42\n",
      "7 x 7 = 49\n",
      "7 x 8 = 56\n",
      "7 x 9 = 63\n",
      "7 x 10 = 70\n"
     ]
    }
   ],
   "source": [
    "k = int(input(\"enter k\"))\n",
    "for i in range(1, 11):\n",
    "    print(k, 'x', i, '=',k * i)"
   ]
  },
  {
   "cell_type": "code",
   "execution_count": 13,
   "metadata": {},
   "outputs": [
    {
     "name": "stdout",
     "output_type": "stream",
     "text": [
      "enter a1\n",
      "enter b5\n",
      "enter c6\n",
      "solution are (-3+0j) and (-3+0j)\n"
     ]
    }
   ],
   "source": [
    "import cmath\n",
    "a = int(input(\"enter a\"))\n",
    "b = int(input(\"enter b\"))\n",
    "c = int(input(\"enter c\"))\n",
    "d = (b**2) - (4*a*c)\n",
    "r1 = (-b-cmath.sqrt(d))/(2*a)\n",
    "r2= (-b-cmath.sqrt(d))/(2*a)\n",
    "print('solution are {0} and {1}'.format(r1,r2))"
   ]
  },
  {
   "cell_type": "code",
   "execution_count": 21,
   "metadata": {},
   "outputs": [
    {
     "name": "stdout",
     "output_type": "stream",
     "text": [
      "enter n10\n",
      "1010"
     ]
    }
   ],
   "source": [
    "# decimal to binary \n",
    "def dtb(n): \n",
    "    if n > 1:\n",
    "        dtb(n // 2)\n",
    "    print(n % 2, end='')\n",
    "n = int(input(\"enter n\"))\n",
    "dtb(n)"
   ]
  },
  {
   "cell_type": "code",
   "execution_count": 22,
   "metadata": {},
   "outputs": [
    {
     "name": "stdout",
     "output_type": "stream",
     "text": [
      "enter n7\n",
      "Fibonacci series:\n",
      "0\n",
      "1\n",
      "1\n",
      "2\n",
      "3\n",
      "5\n",
      "8\n"
     ]
    }
   ],
   "source": [
    "n = int(input(\"enter n\"))\n",
    "a = 0;\n",
    "b = 1;\n",
    "count = 0\n",
    "print(\"Fibonacci series:\")\n",
    "while count < n:\n",
    "    print(a)\n",
    "    nth = a + b\n",
    "    a = b\n",
    "    b = nth\n",
    "    count += 1"
   ]
  },
  {
   "cell_type": "code",
   "execution_count": null,
   "metadata": {},
   "outputs": [],
   "source": []
  }
 ],
 "metadata": {
  "kernelspec": {
   "display_name": "Python 3",
   "language": "python",
   "name": "python3"
  },
  "language_info": {
   "codemirror_mode": {
    "name": "ipython",
    "version": 3
   },
   "file_extension": ".py",
   "mimetype": "text/x-python",
   "name": "python",
   "nbconvert_exporter": "python",
   "pygments_lexer": "ipython3",
   "version": "3.7.1"
  }
 },
 "nbformat": 4,
 "nbformat_minor": 2
}
