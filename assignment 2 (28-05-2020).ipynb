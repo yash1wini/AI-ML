{
 "cells": [
  {
   "cell_type": "code",
   "execution_count": 4,
   "metadata": {},
   "outputs": [
    {
     "name": "stdout",
     "output_type": "stream",
     "text": [
      "Input first number: 26\n",
      "Input second number: 15\n",
      "Input third number: 29\n",
      "The median is 26.0\n"
     ]
    }
   ],
   "source": [
    "# question 10\n",
    "a = float(input(\"Input first number: \"))\n",
    "b = float(input(\"Input second number: \"))\n",
    "c = float(input(\"Input third number: \"))\n",
    "if a > b:\n",
    "    if a < c:\n",
    "        median = a\n",
    "    elif b > c:\n",
    "        median = b\n",
    "    else:\n",
    "        median = c\n",
    "else:\n",
    "    if a > c:\n",
    "        median = a\n",
    "    elif b < c:\n",
    "        median = b\n",
    "    else:\n",
    "        median = c\n",
    "\n",
    "print(\"The median is\", median)"
   ]
  },
  {
   "cell_type": "code",
   "execution_count": 6,
   "metadata": {},
   "outputs": [
    {
     "name": "stdout",
     "output_type": "stream",
     "text": [
      "fizzbuzz\n",
      "1\n",
      "2\n",
      "fizz\n",
      "4\n",
      "buzz\n",
      "fizz\n",
      "7\n",
      "8\n",
      "fizz\n",
      "buzz\n",
      "11\n",
      "fizz\n",
      "13\n",
      "14\n",
      "fizzbuzz\n",
      "16\n",
      "17\n",
      "fizz\n",
      "19\n",
      "buzz\n",
      "fizz\n",
      "22\n",
      "23\n",
      "fizz\n",
      "buzz\n",
      "26\n",
      "fizz\n",
      "28\n",
      "29\n",
      "fizzbuzz\n",
      "31\n",
      "32\n",
      "fizz\n",
      "34\n",
      "buzz\n",
      "fizz\n",
      "37\n",
      "38\n",
      "fizz\n",
      "buzz\n",
      "41\n",
      "fizz\n",
      "43\n",
      "44\n",
      "fizzbuzz\n",
      "46\n",
      "47\n",
      "fizz\n",
      "49\n",
      "buzz\n"
     ]
    }
   ],
   "source": [
    "# question 9\n",
    "for fizzbuzz in range(51):\n",
    "    if fizzbuzz % 3 == 0 and fizzbuzz % 5 == 0:\n",
    "        print(\"fizzbuzz\")\n",
    "        continue\n",
    "    elif fizzbuzz % 3 == 0:\n",
    "        print(\"fizz\")\n",
    "        continue\n",
    "    elif fizzbuzz % 5 == 0:\n",
    "        print(\"buzz\")\n",
    "        continue\n",
    "    print(fizzbuzz)"
   ]
  },
  {
   "cell_type": "code",
   "execution_count": 17,
   "metadata": {},
   "outputs": [
    {
     "name": "stdout",
     "output_type": "stream",
     "text": [
      "Enter score 0.85\n",
      "B\n"
     ]
    }
   ],
   "source": [
    "# question 8\n",
    "score = float(input(\"Enter score \"))\n",
    "if score>=0.9 :\n",
    "    print('A')\n",
    "elif score>=0.8 :\n",
    "     print('B')\n",
    "elif score>=0.7 :\n",
    "     print('C')\n",
    "elif score>=0.6 :\n",
    "     print('D')\n",
    "elif score<0.6 :\n",
    "     print('F')\n",
    "elif score>1.0 or score<0.0 :\n",
    "     print(\"error\")"
   ]
  },
  {
   "cell_type": "code",
   "execution_count": 22,
   "metadata": {},
   "outputs": [
    {
     "name": "stdout",
     "output_type": "stream",
     "text": [
      "21\n"
     ]
    }
   ],
   "source": [
    "# question 7\n",
    "def sum_digits_string(str1):\n",
    "    sum_digit = 0\n",
    "    for x in str1:\n",
    "        if x.isdigit() == True:\n",
    "            z = int(x)\n",
    "            sum_digit = sum_digit + z\n",
    "\n",
    "    return sum_digit\n",
    "     \n",
    "print(sum_digits_string(\"Appli123cation456 \"))"
   ]
  },
  {
   "cell_type": "code",
   "execution_count": 2,
   "metadata": {},
   "outputs": [
    {
     "name": "stdout",
     "output_type": "stream",
     "text": [
      "enter the stringorange\n",
      "p u b o i f "
     ]
    }
   ],
   "source": [
    "# question 6\n",
    "s=input(\"enter the string\")\n",
    "for i in s :\n",
    "    if(i=='a' or i=='e' or i=='i' or i=='o' or i=='u'):\n",
    "        s1=i\n",
    "        s2=chr(ord(s1)+1)\n",
    "        print(s2,end=\" \")\n",
    "    elif(i>'a' and i<'e'):\n",
    "        print(\"e\",end=\" \")\n",
    "    elif(i>'e'and i<'i'):\n",
    "        print(\"i\",end=\" \")\n",
    "    elif(i>'i'and i<'o'):\n",
    "        print(\"o\",end=\" \")\n",
    "    elif(i>'o'and i<'u'):\n",
    "        print(\"u\",end=\" \")\n",
    "    else:\n",
    "        print(\"a\",end=\" \")\n",
    "    "
   ]
  },
  {
   "cell_type": "code",
   "execution_count": 1,
   "metadata": {},
   "outputs": [
    {
     "name": "stdout",
     "output_type": "stream",
     "text": [
      "enter a number127\n",
      "The given string is not palindrome\n",
      "848\n"
     ]
    }
   ],
   "source": [
    "# question 5\n",
    "n = int(input(\"enter a number\"))\n",
    "if str(n) == str(n)[::-1]:\n",
    "    print(\"the given string is palindrome\")\n",
    "else:\n",
    "    print(\"The given string is not palindrome\")\n",
    "def rev_number(n):\n",
    "  s = 0\n",
    "  while True:\n",
    "    k = str(n)\n",
    "    if k == k[::-1]:\n",
    "      break\n",
    "    else:\n",
    "      m = int(k[::-1])\n",
    "      n += m\n",
    "      s += 1\n",
    "  return n \n",
    "\n",
    "print(rev_number(127))\n"
   ]
  },
  {
   "cell_type": "code",
   "execution_count": 1,
   "metadata": {},
   "outputs": [
    {
     "name": "stdout",
     "output_type": "stream",
     "text": [
      "enter a value n:1\n",
      "enter a value m:10\n",
      "9\n"
     ]
    }
   ],
   "source": [
    "# question 4\n",
    "count = 0\n",
    "n = int(input(\"enter a value n:\"))\n",
    "m = int(input(\"enter a value m:\"))\n",
    "for i in range(n,m):\n",
    "    if str(i) == str(i)[::-1]:\n",
    "        count += 1\n",
    "print(count)\n"
   ]
  },
  {
   "cell_type": "code",
   "execution_count": null,
   "metadata": {},
   "outputs": [],
   "source": [
    "# question 3\n",
    "str = input(\"Enter a string: \")\n",
    "a=\"(\"\n",
    "b=\")\"\n",
    "open,close=0,0\n",
    "for i in range(0, len(str)):\n",
    "    ch = str[i]\n",
    "    if(ch==a):\n",
    "        open+=1\n",
    "    elif(ch==b):\n",
    "        close+=1\n",
    "if(open==close):\n",
    "    print(close)\n",
    "else:\n",
    "    print(close)"
   ]
  },
  {
   "cell_type": "code",
   "execution_count": 3,
   "metadata": {},
   "outputs": [
    {
     "name": "stdout",
     "output_type": "stream",
     "text": [
      "enter the string:aabaabaababa\n",
      "3\n"
     ]
    }
   ],
   "source": [
    "#question 2\n",
    "s=input(\"enter the string:\")\n",
    "print(s.count(\"aa\"))"
   ]
  },
  {
   "cell_type": "code",
   "execution_count": 4,
   "metadata": {},
   "outputs": [
    {
     "name": "stdout",
     "output_type": "stream",
     "text": [
      "enter stringyashwini@\n",
      "Vowels: 3\n",
      "Consonant: 5\n",
      "Special Character: 1\n"
     ]
    }
   ],
   "source": [
    "# question1\n",
    "def countCharacterType(str): \n",
    "    vowels = 0\n",
    "    consonant = 0\n",
    "    specialChar = 0\n",
    "    digit = 0\n",
    "    for i in range(0, len(str)):  \n",
    "        ch = str[i]  \n",
    "        if ( (ch >= 'a' and ch <= 'z') or \n",
    "             (ch >= 'A' and ch <= 'Z') ):  \n",
    "            ch = ch.lower() \n",
    "            if (ch == 'a' or ch == 'e' or ch == 'i' \n",
    "                        or ch == 'o' or ch == 'u'): \n",
    "                vowels += 1\n",
    "            else: \n",
    "                consonant += 1\n",
    "        else: \n",
    "            specialChar += 1\n",
    "      \n",
    "    print(\"Vowels:\", vowels) \n",
    "    print(\"Consonant:\", consonant)    \n",
    "    print(\"Special Character:\", specialChar)  \n",
    "str = input(\"enter string\")\n",
    "countCharacterType(str)  "
   ]
  },
  {
   "cell_type": "code",
   "execution_count": null,
   "metadata": {},
   "outputs": [],
   "source": []
  }
 ],
 "metadata": {
  "kernelspec": {
   "display_name": "Python 3",
   "language": "python",
   "name": "python3"
  },
  "language_info": {
   "codemirror_mode": {
    "name": "ipython",
    "version": 3
   },
   "file_extension": ".py",
   "mimetype": "text/x-python",
   "name": "python",
   "nbconvert_exporter": "python",
   "pygments_lexer": "ipython3",
   "version": "3.7.1"
  }
 },
 "nbformat": 4,
 "nbformat_minor": 2
}
