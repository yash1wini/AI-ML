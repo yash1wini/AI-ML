{
 "cells": [
  {
   "cell_type": "markdown",
   "metadata": {},
   "source": [
    "## cse-221710315063-yashwini sai"
   ]
  },
  {
   "cell_type": "code",
   "execution_count": 2,
   "metadata": {},
   "outputs": [
    {
     "name": "stdout",
     "output_type": "stream",
     "text": [
      "\n",
      " lives left: 9\n",
      "enter character:s\n",
      "sorry wrong \n",
      "flag: []\n",
      "\n",
      "\n",
      " lives left: 8\n",
      "enter character:a\n",
      "sorry wrong \n",
      "flag: []\n",
      "\n",
      "\n",
      " lives left: 7\n",
      "enter character:i\n",
      "['i', '?', '?', '?', '?']\n",
      "\n",
      "\n",
      " lives left: 7\n",
      "enter character:n\n",
      "['i', 'n', '?', '?', '?']\n",
      "\n",
      "\n",
      " lives left: 7\n",
      "enter character:d\n",
      "['i', 'n', 'd', '?', '?']\n",
      "\n",
      "\n",
      " lives left: 7\n",
      "enter character:e\n",
      "['i', 'n', 'd', 'e', '?']\n",
      "\n",
      "\n",
      " lives left: 7\n",
      "enter character:x\n",
      "['i', 'n', 'd', 'e', 'x']\n",
      "congratulations\n"
     ]
    }
   ],
   "source": [
    "\n",
    "\n",
    "import random\n",
    "lives=9\n",
    "list1=[\"pizza\",\"sleep\",\"index\",\"heart\",\"short\",\"large\",\"light\",\"bowls\",\"chart\",\"sword\"]\n",
    "list2=[\"?\",\"?\",\"?\",\"?\",\"?\"]\n",
    "r = random.randint(0,9)\n",
    "w=list1[r]\n",
    "flag=[]\n",
    "while lives>0:\n",
    "    print(\"\\n lives left:\",lives)\n",
    "    s=input(\"enter character:\")\n",
    "    if len(s)>1:\n",
    "        if s==w:\n",
    "            print(\"won\")\n",
    "        else:\n",
    "            print(\"try again\")\n",
    "            lives-=1\n",
    "    else:\n",
    "        k=0\n",
    "        for i in range(len(w)):\n",
    "            if i in flag:\n",
    "                continue\n",
    "            elif w[i]==s:\n",
    "                flag.append(i)\n",
    "                list2[i]=w[i]\n",
    "                print(list(list2))\n",
    "                k=0\n",
    "                break\n",
    "            else:\n",
    "                k=1\n",
    "        if k==1:\n",
    "            print(\"sorry wrong \")\n",
    "            lives-=1\n",
    "            print(\"flag:\",list(flag))\n",
    "    k=0\n",
    "    for i in range(len(w)):\n",
    "        if(i in flag):\n",
    "            continue\n",
    "        else:\n",
    "            k=1\n",
    "    if(k==0):\n",
    "        print(\"congratulations\")\n",
    "        break\n",
    "    else:\n",
    "        print(\"\")"
   ]
  },
  {
   "cell_type": "code",
   "execution_count": null,
   "metadata": {},
   "outputs": [],
   "source": []
  }
 ],
 "metadata": {
  "kernelspec": {
   "display_name": "Python 3",
   "language": "python",
   "name": "python3"
  },
  "language_info": {
   "codemirror_mode": {
    "name": "ipython",
    "version": 3
   },
   "file_extension": ".py",
   "mimetype": "text/x-python",
   "name": "python",
   "nbconvert_exporter": "python",
   "pygments_lexer": "ipython3",
   "version": "3.7.1"
  }
 },
 "nbformat": 4,
 "nbformat_minor": 2
}
