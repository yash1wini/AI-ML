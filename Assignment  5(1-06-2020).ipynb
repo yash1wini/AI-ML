{
 "cells": [
  {
   "cell_type": "code",
   "execution_count": 1,
   "metadata": {},
   "outputs": [
    {
     "name": "stdout",
     "output_type": "stream",
     "text": [
      "fantasticelipse7%\n",
      "Try other password yes\n",
      "elegantcourse65!\n",
      "Try other password no\n"
     ]
    }
   ],
   "source": [
    "l1=[\"goodlooking\",\"positive\",\"beautiful\",\"perfect\",\"queen\",\"daring\",\"dazzling\",\"elegant\",\"fantastic\",\"flawless\"]\n",
    "l2=[\"era\",\"bowl\",\"bus\",\"course\",\"kid\",\"copper\",\"country\",\"dew\",\"elipse\",\"face\"]\n",
    "l3=[\"!\",\"@\",\"#\",\"$\",\"%\",\"*\"]\n",
    "import random\n",
    "while True:\n",
    "    x=str(random.choice(l1))\n",
    "    y=str(random.choice(l2))\n",
    "    z=str(random.randint(0,100))\n",
    "    r=str(random.choice(l3))\n",
    "    print(str(x+y+z+r))\n",
    "    pwd=input(\"Try other password \")\n",
    "    if pwd==\"no\":\n",
    "        break\n",
    "    else:\n",
    "        continue\n"
   ]
  },
  {
   "cell_type": "code",
   "execution_count": null,
   "metadata": {},
   "outputs": [],
   "source": []
  }
 ],
 "metadata": {
  "kernelspec": {
   "display_name": "Python 3",
   "language": "python",
   "name": "python3"
  },
  "language_info": {
   "codemirror_mode": {
    "name": "ipython",
    "version": 3
   },
   "file_extension": ".py",
   "mimetype": "text/x-python",
   "name": "python",
   "nbconvert_exporter": "python",
   "pygments_lexer": "ipython3",
   "version": "3.7.1"
  }
 },
 "nbformat": 4,
 "nbformat_minor": 2
}
